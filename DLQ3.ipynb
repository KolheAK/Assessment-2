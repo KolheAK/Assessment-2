{
  "nbformat": 4,
  "nbformat_minor": 0,
  "metadata": {
    "colab": {
      "provenance": []
    },
    "kernelspec": {
      "name": "python3",
      "display_name": "Python 3"
    },
    "language_info": {
      "name": "python"
    }
  },
  "cells": [
    {
      "cell_type": "markdown",
      "source": [
        "Q.3\n",
        "Perform Regression Task using ANN\n",
        "\n",
        "Note: You are feel free to use any Regression ML dataset"
      ],
      "metadata": {
        "id": "rBs5QSxzCDrN"
      }
    },
    {
      "cell_type": "code",
      "source": [
        "#import libraries\n",
        "import numpy as np\n",
        "import tensorflow as tf\n",
        "from tensorflow.keras.datasets import boston_housing\n",
        "from tensorflow.keras.models import Sequential\n",
        "from tensorflow.keras.layers import Dense, Dropout\n",
        "from tensorflow.keras.optimizers import Adam\n",
        "from sklearn.preprocessing import StandardScaler\n",
        "from sklearn.model_selection import train_test_split\n",
        "from sklearn.metrics import mean_squared_error\n",
        "import matplotlib.pyplot as plt"
      ],
      "metadata": {
        "id": "9QbLxFeACBlK"
      },
      "execution_count": 1,
      "outputs": []
    },
    {
      "cell_type": "code",
      "source": [
        "# Load the Boston Housing dataset\n",
        "(x_train, y_train), (x_test, y_test) = boston_housing.load_data()"
      ],
      "metadata": {
        "colab": {
          "base_uri": "https://localhost:8080/"
        },
        "id": "AyVowrHXCekO",
        "outputId": "9b47d65a-8445-47b5-fd63-d200a60fb712"
      },
      "execution_count": 2,
      "outputs": [
        {
          "output_type": "stream",
          "name": "stdout",
          "text": [
            "Downloading data from https://storage.googleapis.com/tensorflow/tf-keras-datasets/boston_housing.npz\n",
            "57026/57026 [==============================] - 0s 0us/step\n"
          ]
        }
      ]
    },
    {
      "cell_type": "code",
      "source": [
        "# Standardize the input features\n",
        "scaler = StandardScaler()\n",
        "x_train_scaled = scaler.fit_transform(x_train)\n",
        "x_test_scaled = scaler.transform(x_test)"
      ],
      "metadata": {
        "id": "l4YyI_cHCeUx"
      },
      "execution_count": 3,
      "outputs": []
    },
    {
      "cell_type": "code",
      "source": [
        "# Define the model architecture\n",
        "model = Sequential([\n",
        "    Dense(128, activation='relu', input_shape=(x_train_scaled.shape[1],)),\n",
        "    #Dropout(0.2),  # Dropout layer to reduce overfitting\n",
        "    Dense(64, activation='relu'),\n",
        "    #Dropout(0.2),  # Dropout layer to reduce overfitting\n",
        "    Dense(32, activation='relu'),\n",
        "    #Dropout(0.2),  # Dropout layer to reduce overfitting\n",
        "    Dense(16, activation='relu'),\n",
        "    Dense(1)  # Output layer for regression task\n",
        "])"
      ],
      "metadata": {
        "id": "89oCf4qUCHg_"
      },
      "execution_count": 4,
      "outputs": []
    },
    {
      "cell_type": "code",
      "source": [
        "# Compile the model with a custom optimizer and learning rate\n",
        "#optimizer = Adam(learning_rate=0.001)\n",
        "optimizer = tf.keras.optimizers.RMSprop(learning_rate=0.001, momentum=0.95)\n",
        "model.compile(optimizer=optimizer, loss='mean_squared_error')"
      ],
      "metadata": {
        "id": "E0ArvK7RCu-e"
      },
      "execution_count": 5,
      "outputs": []
    },
    {
      "cell_type": "code",
      "source": [
        "# Print the model summary\n",
        "model.summary()"
      ],
      "metadata": {
        "colab": {
          "base_uri": "https://localhost:8080/"
        },
        "id": "Uh-M-nknCu6l",
        "outputId": "267aca36-6976-4f6a-d3e2-ac780d8d3493"
      },
      "execution_count": 6,
      "outputs": [
        {
          "output_type": "stream",
          "name": "stdout",
          "text": [
            "Model: \"sequential\"\n",
            "_________________________________________________________________\n",
            " Layer (type)                Output Shape              Param #   \n",
            "=================================================================\n",
            " dense (Dense)               (None, 128)               1792      \n",
            "                                                                 \n",
            " dense_1 (Dense)             (None, 64)                8256      \n",
            "                                                                 \n",
            " dense_2 (Dense)             (None, 32)                2080      \n",
            "                                                                 \n",
            " dense_3 (Dense)             (None, 16)                528       \n",
            "                                                                 \n",
            " dense_4 (Dense)             (None, 1)                 17        \n",
            "                                                                 \n",
            "=================================================================\n",
            "Total params: 12673 (49.50 KB)\n",
            "Trainable params: 12673 (49.50 KB)\n",
            "Non-trainable params: 0 (0.00 Byte)\n",
            "_________________________________________________________________\n"
          ]
        }
      ]
    },
    {
      "cell_type": "code",
      "source": [
        "# Train the model with early stopping\n",
        "early_stopping = tf.keras.callbacks.EarlyStopping(monitor='val_loss', patience=10, restore_best_weights=True)\n",
        "history = model.fit(x_train_scaled, y_train, epochs=100, batch_size=32, validation_split=0.2, callbacks=[early_stopping])"
      ],
      "metadata": {
        "colab": {
          "base_uri": "https://localhost:8080/"
        },
        "id": "mc9FV28sCu4a",
        "outputId": "51fa7cb2-99d8-471d-9ef2-1a4fc376ec80"
      },
      "execution_count": 7,
      "outputs": [
        {
          "output_type": "stream",
          "name": "stdout",
          "text": [
            "Epoch 1/100\n",
            "11/11 [==============================] - 2s 25ms/step - loss: 653.7984 - val_loss: 2659.5193\n",
            "Epoch 2/100\n",
            "11/11 [==============================] - 0s 5ms/step - loss: 993.3383 - val_loss: 168.0303\n",
            "Epoch 3/100\n",
            "11/11 [==============================] - 0s 6ms/step - loss: 258.5382 - val_loss: 269.8943\n",
            "Epoch 4/100\n",
            "11/11 [==============================] - 0s 6ms/step - loss: 152.0900 - val_loss: 182.8086\n",
            "Epoch 5/100\n",
            "11/11 [==============================] - 0s 5ms/step - loss: 81.2473 - val_loss: 86.7154\n",
            "Epoch 6/100\n",
            "11/11 [==============================] - 0s 7ms/step - loss: 58.7944 - val_loss: 69.2359\n",
            "Epoch 7/100\n",
            "11/11 [==============================] - 0s 5ms/step - loss: 41.4720 - val_loss: 35.2220\n",
            "Epoch 8/100\n",
            "11/11 [==============================] - 0s 7ms/step - loss: 28.3632 - val_loss: 23.2044\n",
            "Epoch 9/100\n",
            "11/11 [==============================] - 0s 6ms/step - loss: 15.5901 - val_loss: 17.2548\n",
            "Epoch 10/100\n",
            "11/11 [==============================] - 0s 5ms/step - loss: 11.9884 - val_loss: 16.4454\n",
            "Epoch 11/100\n",
            "11/11 [==============================] - 0s 7ms/step - loss: 10.1080 - val_loss: 13.5670\n",
            "Epoch 12/100\n",
            "11/11 [==============================] - 0s 7ms/step - loss: 9.3174 - val_loss: 14.2975\n",
            "Epoch 13/100\n",
            "11/11 [==============================] - 0s 5ms/step - loss: 9.3409 - val_loss: 14.2935\n",
            "Epoch 14/100\n",
            "11/11 [==============================] - 0s 7ms/step - loss: 8.4686 - val_loss: 14.3029\n",
            "Epoch 15/100\n",
            "11/11 [==============================] - 0s 6ms/step - loss: 8.0833 - val_loss: 14.5580\n",
            "Epoch 16/100\n",
            "11/11 [==============================] - 0s 7ms/step - loss: 8.9471 - val_loss: 13.4296\n",
            "Epoch 17/100\n",
            "11/11 [==============================] - 0s 6ms/step - loss: 6.6740 - val_loss: 16.2518\n",
            "Epoch 18/100\n",
            "11/11 [==============================] - 0s 5ms/step - loss: 8.2413 - val_loss: 12.4620\n",
            "Epoch 19/100\n",
            "11/11 [==============================] - 0s 6ms/step - loss: 7.3386 - val_loss: 14.2531\n",
            "Epoch 20/100\n",
            "11/11 [==============================] - 0s 6ms/step - loss: 10.8461 - val_loss: 14.6808\n",
            "Epoch 21/100\n",
            "11/11 [==============================] - 0s 6ms/step - loss: 7.0873 - val_loss: 12.4266\n",
            "Epoch 22/100\n",
            "11/11 [==============================] - 0s 7ms/step - loss: 6.4586 - val_loss: 12.7095\n",
            "Epoch 23/100\n",
            "11/11 [==============================] - 0s 5ms/step - loss: 7.0457 - val_loss: 12.0088\n",
            "Epoch 24/100\n",
            "11/11 [==============================] - 0s 5ms/step - loss: 7.2342 - val_loss: 12.6199\n",
            "Epoch 25/100\n",
            "11/11 [==============================] - 0s 6ms/step - loss: 9.0273 - val_loss: 22.2094\n",
            "Epoch 26/100\n",
            "11/11 [==============================] - 0s 6ms/step - loss: 11.3638 - val_loss: 15.1038\n",
            "Epoch 27/100\n",
            "11/11 [==============================] - 0s 6ms/step - loss: 6.3544 - val_loss: 14.1309\n",
            "Epoch 28/100\n",
            "11/11 [==============================] - 0s 6ms/step - loss: 5.9503 - val_loss: 13.5893\n",
            "Epoch 29/100\n",
            "11/11 [==============================] - 0s 7ms/step - loss: 5.4297 - val_loss: 13.0158\n",
            "Epoch 30/100\n",
            "11/11 [==============================] - 0s 5ms/step - loss: 6.2176 - val_loss: 12.5056\n",
            "Epoch 31/100\n",
            "11/11 [==============================] - 0s 5ms/step - loss: 8.0321 - val_loss: 12.6378\n",
            "Epoch 32/100\n",
            "11/11 [==============================] - 0s 7ms/step - loss: 8.0683 - val_loss: 12.9361\n",
            "Epoch 33/100\n",
            "11/11 [==============================] - 0s 8ms/step - loss: 6.7188 - val_loss: 16.8070\n"
          ]
        }
      ]
    },
    {
      "cell_type": "code",
      "source": [
        "# Evaluate the model\n",
        "y_pred = model.predict(x_test_scaled)\n",
        "mse = mean_squared_error(y_test, y_pred)\n",
        "print(\"Mean Squared Error:\", mse)"
      ],
      "metadata": {
        "colab": {
          "base_uri": "https://localhost:8080/"
        },
        "id": "ylKelk69CHip",
        "outputId": "3a4aacbb-b220-4cb0-f173-17b9076ce348"
      },
      "execution_count": 8,
      "outputs": [
        {
          "output_type": "stream",
          "name": "stdout",
          "text": [
            "4/4 [==============================] - 0s 3ms/step\n",
            "Mean Squared Error: 17.60235044223532\n"
          ]
        }
      ]
    },
    {
      "cell_type": "code",
      "source": [
        "# Plot training and validation losses\n",
        "plt.plot(history.history['loss'], label='Training Loss')\n",
        "plt.plot(history.history['val_loss'], label='Validation Loss')\n",
        "plt.title('Training and Validation Loss')\n",
        "plt.xlabel('Epochs')\n",
        "plt.ylabel('Loss')\n",
        "plt.legend()\n",
        "plt.show()"
      ],
      "metadata": {
        "colab": {
          "base_uri": "https://localhost:8080/",
          "height": 472
        },
        "id": "JaT0W_BJCHmc",
        "outputId": "8ab98fbf-6a7d-4a7c-d34f-c029732f9e24"
      },
      "execution_count": 9,
      "outputs": [
        {
          "output_type": "display_data",
          "data": {
            "text/plain": [
              "<Figure size 640x480 with 1 Axes>"
            ],
            "image/png": "[encoded data removed]"
          },
          "metadata": {}
        }
      ]
    }
  ]
}