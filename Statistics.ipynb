{
  "nbformat": 4,
  "nbformat_minor": 0,
  "metadata": {
    "colab": {
      "provenance": []
    },
    "kernelspec": {
      "name": "python3",
      "display_name": "Python 3"
    },
    "language_info": {
      "name": "python"
    }
  },
  "cells": [
    {
      "cell_type": "markdown",
      "source": [
        "Statistics:\n",
        "\n",
        "Question: 1\n",
        "\n",
        " What is the meaning of six sigma in statistics?  Give proper example"
      ],
      "metadata": {
        "id": "ZQ1x2-axay61"
      }
    },
    {
      "cell_type": "markdown",
      "source": [
        "Answer:\n",
        "In statistics, Six Sigma refers to a level of quality that strives for near perfection. It implies a process that produces only 3.4 defects per million opportunities. In other words, a Six Sigma process aims to have almost zero defects.\n",
        "\n",
        "Example -\n",
        "Suppose we work for a company that manufactures light bulbs. The management decides to implement Six Sigma principles to improve the quality of their products. They set a goal to produce light bulbs with a defect rate of no more than 3.4 defects per million bulbs.\n",
        "\n",
        "To achieve this goal, the company first identifies key processes in the manufacturing of light bulbs, such as the quality of materials, the assembly process, and the testing procedures.\n",
        "\n",
        "Next, they collect data on defects from each step of the manufacturing process. This could include information on the number of defective bulbs, the causes of defects, and the number of opportunities for defects in each stage.\n",
        "\n",
        "Using statistical analysis, the company identifies the root causes of defects and implements corrective actions to address them. For example, they may improve the quality control measures, provide additional training for workers, or upgrade machinery.\n",
        "\n",
        "After implementing these changes, the company continuously monitors the process and measures its performance using statistical tools such as control charts and process capability analysis.\n",
        "\n",
        "Over time, as the process improves, the defect rate decreases, and the company moves closer to achieving Six Sigma quality levels."
      ],
      "metadata": {
        "id": "X4FqtYKPa285"
      }
    },
    {
      "cell_type": "markdown",
      "source": [
        "Question: 2\n",
        "\n",
        "What type of data does not have a log-normal distribution or a Gaussian distribution?  Give proper example"
      ],
      "metadata": {
        "id": "xX6G_tTgbgPA"
      }
    },
    {
      "cell_type": "markdown",
      "source": [
        "Answer:\n",
        "Data that do not have a log-normal distribution or a Gaussian (normal) distribution are typically skewed or have heavy tails. Here are a few examples of such data types:\n",
        "\n",
        "1. Exponential Distribution: Data that follows an exponential distribution has a single peak and a rapid decrease in probability as you move away from the peak. It is commonly used to model the time until an event occurs, such as the time between customer arrivals in a queue or the time until a radioactive atom decays. An example could be the time between consecutive phone calls received at a call center.\n",
        "\n",
        "2. Poisson Distribution: Data that follows a Poisson distribution represents the number of events occurring in fixed intervals of time or space. It is characterized by a single peak and is often used to model rare events, such as the number of customers arriving at a store within a specific time period or the number of defects in a product batch.\n",
        "\n",
        "3. Power Law Distribution: Data that follows a power law distribution has a heavy tail, meaning it contains a few very large values compared to the majority of smaller values. It is commonly observed in phenomena such as income distribution, city population sizes, and word frequencies in natural language. An example could be the distribution of wealth among individuals in a population.\n",
        "\n",
        "4. Uniform Distribution: Data that follows a uniform distribution has equal probabilities for all values within a specified range. It does not have any peaks or valleys and is characterized by a flat histogram. An example could be the outcome of rolling a fair six-sided die, where each face has an equal probability of 1/6.\n",
        "\n",
        "5. Bimodal or Multimodal Distributions: Data that exhibit multiple peaks or modes do not follow a log-normal or Gaussian distribution. These distributions can arise in various situations, such as biologically based phenomena or when data originate from different populations. An example could be the distribution of heights in a population that includes both children and adults.\n"
      ],
      "metadata": {
        "id": "hvk6Ws12cGPK"
      }
    },
    {
      "cell_type": "markdown",
      "source": [
        "Question: 3\n",
        "\n",
        "What is the meaning of the five-number summary in Statistics? Give proper example"
      ],
      "metadata": {
        "id": "s-k_m7yvcqou"
      }
    },
    {
      "cell_type": "markdown",
      "source": [
        "Answer:\n",
        "The five-number summary is a descriptive statistics technique used to summarize the distribution of a dataset. It consists of five key values that divide the data into four equal parts, providing insights into the central tendency, spread, and shape of the data distribution.\n",
        "\n",
        "The five numbers included in the summary are:\n",
        "\n",
        "1. Minimum: The smallest value in the dataset.\n",
        "2. First Quartile (Q1): The value below which 25% of the data falls. It is the median of the lower half of the dataset.\n",
        "3. Median (Second Quartile, Q2): The middle value of the dataset when it is sorted in ascending order. It divides the data into two halves, with 50% of the data falling below it and 50% above it.\n",
        "4. Third Quartile (Q3): The value below which 75% of the data falls. It is the median of the upper half of the dataset.\n",
        "5. Maximum: The largest value in the dataset.\n",
        "\n",
        "The five-number summary is often used to visualize the distribution of numerical data using a box plot (box-and-whisker plot). This plot consists of a box that represents the interquartile range (IQR) between the first and third quartiles, with a line inside the box representing the median. Whiskers extend from the box to the minimum and maximum values, or to a certain multiple of the IQR away from the quartiles.\n",
        "\n",
        "Here's an example of a five-number summary for a dataset of exam scores:\n",
        "\n",
        "Dataset: 60, 70, 75, 80, 85, 88, 90, 95, 100\n",
        "\n",
        "Minimum: 60\n",
        "First Quartile (Q1): 75\n",
        "Median (Q2): 85\n",
        "Third Quartile (Q3): 92.5\n",
        "Maximum: 100\n",
        "\n",
        "\n",
        "Using this five-number summary, we can create a box plot to visualize the distribution of exam scores. The box represents the middle 50% of the scores (from Q1 to Q3), with the median marked as a line inside the box. Whiskers extend from the box to the minimum and maximum scores. This visualization helps identify outliers, assess the spread of the data, and compare distributions between different groups."
      ],
      "metadata": {
        "id": "WYr9bBNicxEF"
      }
    },
    {
      "cell_type": "markdown",
      "source": [
        "Question: 4\n",
        "\n",
        "What is correlation? Give an example with a dataset & graphical representation on jupyter Notebook"
      ],
      "metadata": {
        "id": "_F4U8YK8dziP"
      }
    },
    {
      "cell_type": "markdown",
      "source": [
        "Answer:\n"
      ],
      "metadata": {
        "id": "zqFpDruQeCe0"
      }
    },
    {
      "cell_type": "code",
      "source": [
        "import pandas as pd\n",
        "\n",
        "# Example dataset\n",
        "data = {\n",
        "    'X': [1, 2, 3, 4, 5],\n",
        "    'Y': [2, 4, 6, 8, 10]\n",
        "}\n",
        "\n",
        "df = pd.DataFrame(data)\n",
        "\n",
        "# Calculate correlation coefficient\n",
        "correlation_coefficient = df['X'].corr(df['Y'])\n",
        "print(\"Correlation Coefficient:\", correlation_coefficient)\n"
      ],
      "metadata": {
        "colab": {
          "base_uri": "https://localhost:8080/"
        },
        "id": "9u8-yZQkehdh",
        "outputId": "cdcdca95-3b3a-4240-e5f4-4f2088e2eea6"
      },
      "execution_count": 1,
      "outputs": [
        {
          "output_type": "stream",
          "name": "stdout",
          "text": [
            "Correlation Coefficient: 0.9999999999999999\n"
          ]
        }
      ]
    },
    {
      "cell_type": "markdown",
      "source": [
        "In this example, we have two variables X and Y with a perfect positive linear relationship. As X increases, Y also increases in a predictable manner. Therefore, the correlation coefficient will be 1; programatically it is given as 0.9999999999999999, which is very near to 1.\n"
      ],
      "metadata": {
        "id": "hEGifUaXepPk"
      }
    },
    {
      "cell_type": "code",
      "source": [
        "import pandas as pd\n",
        "import numpy as np\n",
        "import seaborn as sns\n",
        "import matplotlib.pyplot as plt\n",
        "\n",
        "# Example dataset\n",
        "data = {\n",
        "    'X': [1, 2, 3, 4, 5],\n",
        "    'Y': [2, 4, 6, 8, 10]\n",
        "}\n",
        "\n",
        "df = pd.DataFrame(data)\n",
        "\n",
        "# Calculate correlation coefficient\n",
        "correlation_coefficient = df['X'].corr(df['Y'])\n",
        "print(\"Correlation Coefficient:\", correlation_coefficient)\n",
        "\n",
        "# Plot scatterplot with regression line\n",
        "sns.set(style=\"whitegrid\")\n",
        "sns.scatterplot(data=df, x='X', y='Y', color='blue')\n",
        "plt.title('Scatterplot of X vs Y')\n",
        "plt.xlabel('X')\n",
        "plt.ylabel('Y')\n",
        "\n",
        "# Add regression line\n",
        "sns.regplot(data=df, x='X', y='Y', scatter=False, color='red')\n",
        "\n",
        "plt.show()\n"
      ],
      "metadata": {
        "colab": {
          "base_uri": "https://localhost:8080/",
          "height": 497
        },
        "id": "h_UUfoDFe0mi",
        "outputId": "d929d39d-be24-4e52-f915-04c447ab271c"
      },
      "execution_count": 2,
      "outputs": [
        {
          "output_type": "stream",
          "name": "stdout",
          "text": [
            "Correlation Coefficient: 0.9999999999999999\n"
          ]
        },
        {
          "output_type": "display_data",
          "data": {
            "text/plain": [
              "<Figure size 640x480 with 1 Axes>"
            ],
            "image/png": "[encoded data removed]"
          },
          "metadata": {}
        }
      ]
    }
  ]
}