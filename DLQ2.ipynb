{
  "nbformat": 4,
  "nbformat_minor": 0,
  "metadata": {
    "colab": {
      "provenance": []
    },
    "kernelspec": {
      "name": "python3",
      "display_name": "Python 3"
    },
    "language_info": {
      "name": "python"
    }
  },
  "cells": [
    {
      "cell_type": "markdown",
      "source": [
        "DL\n",
        "Question: 2\n",
        "\n",
        "Train a Pure ANN with less than 10000 trainable parameters using the MNIST Dataset\n"
      ],
      "metadata": {
        "id": "NTK8K9ALvn1v"
      }
    },
    {
      "cell_type": "code",
      "execution_count": 1,
      "metadata": {
        "id": "99__9nuevhYg"
      },
      "outputs": [],
      "source": [
        "#import necessary libraries\n",
        "import numpy as np\n",
        "import tensorflow as tf\n",
        "from tensorflow.keras.datasets import mnist\n",
        "from tensorflow.keras.models import Sequential\n",
        "from tensorflow.keras.layers import Dense, Flatten"
      ]
    },
    {
      "cell_type": "code",
      "source": [
        "# Load MNIST dataset\n",
        "(x_train, y_train), (x_test, y_test) = mnist.load_data()"
      ],
      "metadata": {
        "colab": {
          "base_uri": "https://localhost:8080/"
        },
        "id": "jMgB7QrDv3jG",
        "outputId": "28f6cb49-78b8-4e13-9f2a-c96e8b3d1dd0"
      },
      "execution_count": 2,
      "outputs": [
        {
          "output_type": "stream",
          "name": "stdout",
          "text": [
            "Downloading data from https://storage.googleapis.com/tensorflow/tf-keras-datasets/mnist.npz\n",
            "11490434/11490434 [==============================] - 0s 0us/step\n"
          ]
        }
      ]
    },
    {
      "cell_type": "code",
      "source": [
        "# Normalize the input data\n",
        "x_train = x_train / 255.0\n",
        "x_test = x_test / 255.0"
      ],
      "metadata": {
        "id": "_3lEROCAv8Zw"
      },
      "execution_count": 3,
      "outputs": []
    },
    {
      "cell_type": "code",
      "source": [
        "# Flatten the input images\n",
        "x_train = x_train.reshape((-1, 28 * 28))\n",
        "x_test = x_test.reshape((-1, 28 * 28))"
      ],
      "metadata": {
        "id": "XtyQQ0U0v_cA"
      },
      "execution_count": 4,
      "outputs": []
    },
    {
      "cell_type": "code",
      "source": [
        "# Define the model architecture\n",
        "model = Sequential([\n",
        "    Dense(10, activation='relu', input_shape=(784,)),\n",
        "    Dense(101, activation='relu'),\n",
        "    Dense(10, activation='softmax')\n",
        "])"
      ],
      "metadata": {
        "id": "f7S_kMFLwDdj"
      },
      "execution_count": 5,
      "outputs": []
    },
    {
      "cell_type": "code",
      "source": [
        "# Compile the model\n",
        "model.compile(optimizer='adam', loss='sparse_categorical_crossentropy', metrics=['accuracy'])"
      ],
      "metadata": {
        "id": "86usX1K3wJtI"
      },
      "execution_count": 6,
      "outputs": []
    },
    {
      "cell_type": "code",
      "source": [
        "# Print the model summary\n",
        "model.summary()"
      ],
      "metadata": {
        "colab": {
          "base_uri": "https://localhost:8080/"
        },
        "id": "sJbCdPeMwO0p",
        "outputId": "01c997cb-3655-4d29-fcd7-f1f153f7aff9"
      },
      "execution_count": 7,
      "outputs": [
        {
          "output_type": "stream",
          "name": "stdout",
          "text": [
            "Model: \"sequential\"\n",
            "_________________________________________________________________\n",
            " Layer (type)                Output Shape              Param #   \n",
            "=================================================================\n",
            " dense (Dense)               (None, 10)                7850      \n",
            "                                                                 \n",
            " dense_1 (Dense)             (None, 101)               1111      \n",
            "                                                                 \n",
            " dense_2 (Dense)             (None, 10)                1020      \n",
            "                                                                 \n",
            "=================================================================\n",
            "Total params: 9981 (38.99 KB)\n",
            "Trainable params: 9981 (38.99 KB)\n",
            "Non-trainable params: 0 (0.00 Byte)\n",
            "_________________________________________________________________\n"
          ]
        }
      ]
    },
    {
      "cell_type": "code",
      "source": [
        "# Train the model\n",
        "model.fit(x_train, y_train, epochs=10, batch_size=32, validation_split=0.1)"
      ],
      "metadata": {
        "colab": {
          "base_uri": "https://localhost:8080/"
        },
        "id": "khfEYVQtwUnH",
        "outputId": "2f79715d-c649-45f5-c048-01f0b4068c9f"
      },
      "execution_count": 8,
      "outputs": [
        {
          "output_type": "stream",
          "name": "stdout",
          "text": [
            "Epoch 1/10\n",
            "1688/1688 [==============================] - 4s 2ms/step - loss: 0.4419 - accuracy: 0.8659 - val_loss: 0.2113 - val_accuracy: 0.9403\n",
            "Epoch 2/10\n",
            "1688/1688 [==============================] - 4s 2ms/step - loss: 0.2417 - accuracy: 0.9288 - val_loss: 0.1767 - val_accuracy: 0.9492\n",
            "Epoch 3/10\n",
            "1688/1688 [==============================] - 4s 2ms/step - loss: 0.2046 - accuracy: 0.9384 - val_loss: 0.1697 - val_accuracy: 0.9507\n",
            "Epoch 4/10\n",
            "1688/1688 [==============================] - 3s 2ms/step - loss: 0.1825 - accuracy: 0.9443 - val_loss: 0.1451 - val_accuracy: 0.9575\n",
            "Epoch 5/10\n",
            "1688/1688 [==============================] - 3s 2ms/step - loss: 0.1660 - accuracy: 0.9496 - val_loss: 0.1508 - val_accuracy: 0.9552\n",
            "Epoch 6/10\n",
            "1688/1688 [==============================] - 4s 2ms/step - loss: 0.1557 - accuracy: 0.9514 - val_loss: 0.1375 - val_accuracy: 0.9595\n",
            "Epoch 7/10\n",
            "1688/1688 [==============================] - 3s 2ms/step - loss: 0.1480 - accuracy: 0.9545 - val_loss: 0.1400 - val_accuracy: 0.9585\n",
            "Epoch 8/10\n",
            "1688/1688 [==============================] - 3s 2ms/step - loss: 0.1389 - accuracy: 0.9566 - val_loss: 0.1419 - val_accuracy: 0.9575\n",
            "Epoch 9/10\n",
            "1688/1688 [==============================] - 3s 2ms/step - loss: 0.1341 - accuracy: 0.9581 - val_loss: 0.1328 - val_accuracy: 0.9618\n",
            "Epoch 10/10\n",
            "1688/1688 [==============================] - 4s 3ms/step - loss: 0.1286 - accuracy: 0.9597 - val_loss: 0.1297 - val_accuracy: 0.9615\n"
          ]
        },
        {
          "output_type": "execute_result",
          "data": {
            "text/plain": [
              "<keras.src.callbacks.History at 0x7bc63677feb0>"
            ]
          },
          "metadata": {},
          "execution_count": 8
        }
      ]
    },
    {
      "cell_type": "code",
      "source": [
        "# Evaluate the model\n",
        "test_loss, test_acc = model.evaluate(x_test, y_test)\n",
        "print(\"Test accuracy:\", test_acc)"
      ],
      "metadata": {
        "colab": {
          "base_uri": "https://localhost:8080/"
        },
        "id": "sBTH637-xcbl",
        "outputId": "9b043c9e-93ca-47d7-c018-fec72ceda2f4"
      },
      "execution_count": 9,
      "outputs": [
        {
          "output_type": "stream",
          "name": "stdout",
          "text": [
            "313/313 [==============================] - 0s 1ms/step - loss: 0.1596 - accuracy: 0.9532\n",
            "Test accuracy: 0.9531999826431274\n"
          ]
        }
      ]
    },
    {
      "cell_type": "code",
      "source": [],
      "metadata": {
        "id": "MyTrB54CxgbV"
      },
      "execution_count": null,
      "outputs": []
    }
  ]
}