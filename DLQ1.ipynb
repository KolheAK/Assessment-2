{
  "nbformat": 4,
  "nbformat_minor": 0,
  "metadata": {
    "colab": {
      "provenance": []
    },
    "kernelspec": {
      "name": "python3",
      "display_name": "Python 3"
    },
    "language_info": {
      "name": "python"
    }
  },
  "cells": [
    {
      "cell_type": "markdown",
      "source": [
        "Deep Learning\n",
        "Q. 1\n",
        "(a) Explain how you can implement DL in a real-world application."
      ],
      "metadata": {
        "id": "36FcVUS-TmRn"
      }
    },
    {
      "cell_type": "markdown",
      "source": [
        "Answer:\n",
        "Implementing Deep Learning (DL) in a real-world application involves several steps as follows.\n",
        "\n",
        "1. Problem Definition: A Clear-cut definition of the problem statement depending on the problem shared by client. Our aim is to provide a solution to this problem. The problem cab ne anything such as object identification, object classification, weather prediction, analysis of time series data etc.\n",
        "\n",
        "2. Data Collection: Once the problem is defined, then we need to collect the data required for solving the problem. In some cases, the data can be shared by the client otherwise we need to collect it from different sources such web scrapping, public repositories etc. If the data is not available, we need to collect it from the site, but it is a costly and time consuming.\n",
        "Once the data is available, we may preprocess it for better performance and generalization of the model.\n",
        "\n",
        "3. Model Selection: After data collection, we need to select an appropriate deep learning model/ architecture for our problem depending on the nature of problem/problem definition. E.g. For image related problem definition and data, we’ll go for a Convolutional Neural Network (CNN) or, a Recurrent Neural Network (RNN) or Transformer for sequential data like text, or sometimes a combination of different architectures for more complex tasks. We need to consider different factors such as model complexity, computational resources, and interpretability while finalizing the model.\n",
        "\n",
        "4. Model Training: The training involves splitting of data into training, validation and testing sets.  The split can be 60% training, 20% validation and 20% testing or anything else such as 80%, 10% and 10%.  We need to train the selected deep learning model using training dataset. For this we need to use appropriate activation function and optimization algorithm.  After training, we need to monitor the model's performance on the validation set to prevent overfitting, and adjust hyperparameters accordingly.\n",
        "\n",
        "5. Model Evaluation: After training phase, we need to evaluate our trained model on the test set to assess its performance and generalization ability. Common metrics for model evaluation include accuracy, precision, recall, F1 score, mean squared error, etc. We need to iterate on our model architecture and hyperparameters based on the evaluation results to improve performance.\n"
      ],
      "metadata": {
        "id": "rStApgUmTzb6"
      }
    },
    {
      "cell_type": "markdown",
      "source": [
        "Q.1\n",
        "\n",
        "(b) What is the use of Activation function in Artificial Neural Networks? What would be the problem if we don't use it in ANN networks.\n"
      ],
      "metadata": {
        "id": "94Uh6x5qT82I"
      }
    },
    {
      "cell_type": "markdown",
      "source": [
        "Answer:\n",
        "The activation function decides whether a neuron should be activated or not by calculating the weighted sum and adding bias to it. The purpose of the activation function is to introduce non-linearity into the output of a neuron. And because of this non-linearity ANN is able to solve complex problems.\n",
        "\n",
        "An ANN with no activation function will act as linear regression model or same as that od single layer neural network, which can solve some simple problems but failed to solve complex problems. E.g. XOR problem cannot be solved by single layer neural network.\n"
      ],
      "metadata": {
        "id": "LuOLaseyUDJW"
      }
    }
  ]
}